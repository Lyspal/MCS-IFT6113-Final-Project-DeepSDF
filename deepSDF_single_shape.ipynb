{
 "metadata": {
  "language_info": {
   "codemirror_mode": {
    "name": "ipython",
    "version": 3
   },
   "file_extension": ".py",
   "mimetype": "text/x-python",
   "name": "python",
   "nbconvert_exporter": "python",
   "pygments_lexer": "ipython3",
   "version": "3.8.5-final"
  },
  "orig_nbformat": 2,
  "kernelspec": {
   "name": "python3",
   "display_name": "Python 3"
  }
 },
 "nbformat": 4,
 "nbformat_minor": 2,
 "cells": [
  {
   "cell_type": "code",
   "execution_count": 3,
   "metadata": {},
   "outputs": [],
   "source": [
    "# author: Sylvain Laporte\n",
    "# program: deepSDF_single_shape.py\n",
    "# date: 2020-12-08\n",
    "# object: Implementation of single-shape DeepSDF\n",
    "\n",
    "# The PyTorch code structure used in this project is adapted from the tutorial \"PyTorch: Zero to GANs\" by Aakash N.S. for freeCodeCamp.org\n",
    "# This tutorial is available at https://jovian.ai/aakashns/01-pytorch-basics"
   ]
  },
  {
   "source": [
    "# Deep SDF - Single shape"
   ],
   "cell_type": "markdown",
   "metadata": {}
  },
  {
   "cell_type": "code",
   "execution_count": null,
   "metadata": {},
   "outputs": [],
   "source": [
    "import numpy as np\n",
    "import torch\n",
    "import torch.nn as nn\n",
    "import torch.nn.functional as F"
   ]
  },
  {
   "source": [
    "## Preprocessing data"
   ],
   "cell_type": "markdown",
   "metadata": {}
  },
  {
   "cell_type": "code",
   "execution_count": null,
   "metadata": {},
   "outputs": [],
   "source": []
  },
  {
   "source": [
    "## Preparing for running on GPU"
   ],
   "cell_type": "markdown",
   "metadata": {}
  },
  {
   "cell_type": "code",
   "execution_count": null,
   "metadata": {},
   "outputs": [],
   "source": [
    "# Check if a CUDA GPU is available\n",
    "torch.cuda.is_available()"
   ]
  },
  {
   "cell_type": "code",
   "execution_count": null,
   "metadata": {},
   "outputs": [],
   "source": [
    "def get_default_device():\n",
    "    \"\"\"Helper function to select the device on which to run the model\"\"\"\n",
    "    if torch.cuda.is_available():\n",
    "        return torch.device('cuda')\n",
    "    else:\n",
    "        return torch.device('cpu')"
   ]
  },
  {
   "cell_type": "code",
   "execution_count": null,
   "metadata": {},
   "outputs": [],
   "source": [
    "# Set and check the default device\n",
    "device = get_default_device()\n",
    "device"
   ]
  },
  {
   "cell_type": "code",
   "execution_count": null,
   "metadata": {},
   "outputs": [],
   "source": [
    "def to_device(data, device):\n",
    "    \"\"\"Helper function to move the data to the chosen device\"\"\"\n",
    "    if isinstance(data, (list, tuple)):\n",
    "        return [to_device(x, device) for x in data]\n",
    "    return data.to(device, non_blocking=True)"
   ]
  },
  {
   "cell_type": "code",
   "execution_count": null,
   "metadata": {},
   "outputs": [],
   "source": [
    "class DeviceDataLoader():\n",
    "    \"\"\"Dataloader to move data to a device\"\"\"\n",
    "    def __init__(self, dl, device):\n",
    "        self.dl = dl\n",
    "        self.device = device\n",
    "    \n",
    "    def __iter__(self):\n",
    "        for b in self.dl:\n",
    "            yield to_device(b, self.device)\n",
    "    \n",
    "    def __len__(self):\n",
    "        return len(self.dl)"
   ]
  },
  {
   "source": [
    "### Load dataset to the GPU"
   ],
   "cell_type": "markdown",
   "metadata": {}
  },
  {
   "cell_type": "code",
   "execution_count": null,
   "metadata": {},
   "outputs": [],
   "source": [
    "train_loader = DeviceDataLoader(train_loader, device)\n",
    "val_loader = DeviceDataLoader(val_loader, device)"
   ]
  },
  {
   "source": [
    "## Training the neural network $f_\\theta$"
   ],
   "cell_type": "markdown",
   "metadata": {}
  },
  {
   "source": [
    "### Loss function"
   ],
   "cell_type": "markdown",
   "metadata": {}
  },
  {
   "cell_type": "code",
   "execution_count": null,
   "metadata": {},
   "outputs": [],
   "source": [
    "def clamp(x, delta):\n",
    "    return torch.min(delta, torch.max(-delta, x))\n",
    "\n",
    "def loss(f_theta, s):\n",
    "    delta = 0.1     # parameter that controls the distance from the surface\n",
    "    return torch.abs(clamp(f_theta, delta) - clamp(s, delta))"
   ]
  },
  {
   "source": [
    "### Model"
   ],
   "cell_type": "markdown",
   "metadata": {}
  },
  {
   "source": [
    "#### Define the model"
   ],
   "cell_type": "markdown",
   "metadata": {}
  },
  {
   "cell_type": "code",
   "execution_count": null,
   "metadata": {},
   "outputs": [],
   "source": [
    "def accuracy(outputs, sdf_values):\n",
    "    \"\"\"For human validation only\"\"\"\n",
    "    pass"
   ]
  },
  {
   "cell_type": "code",
   "execution_count": null,
   "metadata": {},
   "outputs": [],
   "source": [
    "class DeepSDF_single(nn.Module):\n",
    "    \"\"\"Multi-layer fully-connected feed-forward neural network with 8 layers, each applied with dropout\"\"\"\n",
    "    def __init__(self, in_size, hidden_size, out_size):\n",
    "        super().__init__()\n",
    "        # Hidden layer 1\n",
    "        self.linear1 = nn.linear(in_size, hidden_size)\n",
    "        # Hidden layer 2\n",
    "        self.linear2 = nn.linear(hidden_size, hidden_size)\n",
    "        # Hidden layer 3\n",
    "        self.linear3 = nn.linear(hidden_size, hidden_size)\n",
    "        # Hidden layer 4\n",
    "        self.linear4 = nn.linear(hidden_size, hidden_size)\n",
    "        # Hidden layer 5\n",
    "        self.linear5 = nn.linear(hidden_size, hidden_size)\n",
    "        # Hidden layer 6\n",
    "        self.linear6 = nn.linear(hidden_size, hidden_size)\n",
    "        # Hidden layer 7\n",
    "        self.linear7 = nn.linear(hidden_size, hidden_size)\n",
    "        # Output layer\n",
    "        self.linear8 = nn.linear(hidden_size, out_size)\n",
    "\n",
    "    def forward(self, xb):\n",
    "        out = self.linear1(xb)\n",
    "        out = F.relu(out)\n",
    "        out = self.linear2(xb)\n",
    "        out = F.relu(out)\n",
    "        out = self.linear3(xb)\n",
    "        out = F.relu(out)\n",
    "        out = self.linear4(xb)\n",
    "        out = F.relu(out)\n",
    "        out = self.linear5(xb)\n",
    "        out = F.relu(out)\n",
    "        out = self.linear6(xb)\n",
    "        out = F.relu(out)\n",
    "        out = self.linear7(xb)\n",
    "        out = F.relu(out)\n",
    "        out = self.linear8(xb)\n",
    "        return out\n",
    "    \n",
    "    def training_step(self, batch):\n",
    "        point_samples, sdf_values = batch\n",
    "        out = self(point_samples)       # generate predictions\n",
    "        loss = loss(out, sdf_values)    # compute loss\n",
    "        return loss\n",
    "\n",
    "    def validation_step(self, batch):\n",
    "        point_samples, sdf_values = batch\n",
    "        out = self(point_samples)           # generate predictions\n",
    "        loss = loss(out, sdf_values)        # compute loss\n",
    "        acc = accuracy(out, sdf_values)     # compute accuracy\n",
    "        return {'val_loss': loss, 'val_acc': acc}\n",
    "    \n",
    "    def validation_epoch_end(self, outputs):\n",
    "        batch_losses = [x['val_loss'] for x in outputs]\n",
    "        epoch_loss = torch.stack(batch_losses).mean()   # combine losses\n",
    "        batch_accs = [x['val_acc'] for x in outputs]\n",
    "        epoch_acc = torch.stack(batch_accs).mean()      # combine accuracies\n",
    "        return {'val_loss': epoch_loss.items(), 'val_acc': epoch_acc.items()}\n",
    "    \n",
    "    def epoch_end(self, epoch, result):\n",
    "        print(\"Epoch [{}], val_loss: {:.4f}, val_acc: {:.4f}\".format(epoch, result['val_loss'], result['val_acc']))"
   ]
  },
  {
   "source": [
    "#### Create the model"
   ],
   "cell_type": "markdown",
   "metadata": {}
  },
  {
   "cell_type": "code",
   "execution_count": 2,
   "metadata": {},
   "outputs": [],
   "source": [
    "input_size = 1\n",
    "hidden_size = 512\n",
    "out_size = 1\n",
    "\n",
    "model = DeepSdf_single(input_size, hidden_size=hidden_size, out_size=out_size)"
   ]
  },
  {
   "cell_type": "code",
   "execution_count": null,
   "metadata": {},
   "outputs": [],
   "source": [
    "# Check the parameters for each layers\n",
    "for t in model.parameters():\n",
    "    print(t.shape)"
   ]
  },
  {
   "source": [
    "#### Load the model on the GPU"
   ],
   "cell_type": "markdown",
   "metadata": {}
  },
  {
   "cell_type": "code",
   "execution_count": null,
   "metadata": {},
   "outputs": [],
   "source": [
    "to_device()model, device)"
   ]
  },
  {
   "source": [
    "### Train the model"
   ],
   "cell_type": "markdown",
   "metadata": {}
  },
  {
   "cell_type": "code",
   "execution_count": null,
   "metadata": {},
   "outputs": [],
   "source": [
    "def evaluate(model, val_loader):\n",
    "    outputs = [model.validation_step(batch) for batch in val_loader]\n",
    "    return model.validation_epoch_end(outputs)\n",
    "\n",
    "def fit(epochs, lr, model, train_loader, val_loader, opt_func=torch.optim.Adam):\n",
    "    history = []\n",
    "    optimizer = opt_func(model.parameters, lr)\n",
    "    for epoch in range(epochs):\n",
    "        # Training\n",
    "        for batch in train_loader:\n",
    "            loss = model.training_step(batch)\n",
    "            loss.backward()\n",
    "            optimizer.step()\n",
    "            optimizer.zero_grad()\n",
    "        # Validation\n",
    "        result = evaluate(model, val_loader)\n",
    "        model.epoch_end(epoch, result)\n",
    "        history.append(result)\n",
    "    return history"
   ]
  },
  {
   "cell_type": "code",
   "execution_count": null,
   "metadata": {},
   "outputs": [],
   "source": [
    "# Checking the accuracy of the untrained model\n",
    "history = [evaluate(model, val_loader)]\n",
    "history"
   ]
  },
  {
   "cell_type": "code",
   "execution_count": null,
   "metadata": {},
   "outputs": [],
   "source": [
    "epochs = 5\n",
    "learning_rate = 0.5\n",
    "\n",
    "# Train the model\n",
    "history += fit(epochs, learning_rate, model, train_loader, val_loader)"
   ]
  },
  {
   "source": [
    "### Plot the losses and accuracies"
   ],
   "cell_type": "markdown",
   "metadata": {}
  },
  {
   "cell_type": "code",
   "execution_count": null,
   "metadata": {},
   "outputs": [],
   "source": [
    "# Plot the losses\n",
    "import matplotlib.pyplot as plt\n",
    "%matplotlib inline"
   ]
  },
  {
   "cell_type": "code",
   "execution_count": null,
   "metadata": {},
   "outputs": [],
   "source": [
    "losses = [x['val_loss'] for x in history]\n",
    "plt.plot(losses, '-x')\n",
    "plt.xlabel('epoch')\n",
    "plt.ylabel('loss')\n",
    "plt.title('Loss vs. No. of epochs')\n",
    "\n",
    "accuracies = [x['val_acc'] for x in history]\n",
    "plt.plot(accuracies, '-x')\n",
    "plt.xlabel('epoch')\n",
    "plt.ylabel('accuracy')\n",
    "plt.title('Accuracy vs. No. of epochs')"
   ]
  },
  {
   "source": [
    "## Render implicit surface"
   ],
   "cell_type": "markdown",
   "metadata": {}
  },
  {
   "source": [
    "### Get the mesh"
   ],
   "cell_type": "markdown",
   "metadata": {}
  },
  {
   "cell_type": "code",
   "execution_count": null,
   "metadata": {},
   "outputs": [],
   "source": []
  },
  {
   "source": [
    "### Render the mesh"
   ],
   "cell_type": "markdown",
   "metadata": {}
  },
  {
   "cell_type": "code",
   "execution_count": null,
   "metadata": {},
   "outputs": [],
   "source": []
  }
 ]
}